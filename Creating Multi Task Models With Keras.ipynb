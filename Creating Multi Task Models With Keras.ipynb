{
 "cells": [
  {
   "cell_type": "markdown",
   "metadata": {},
   "source": [
    "## Task 1: Introduction\n",
    "\n",
    "\n",
    "Starter notebook for the Coursera Guided Project [Creating Multi Task Models With Keras](https://www.coursera.org/projects/multi-task-models-keras)"
   ]
  },
  {
   "cell_type": "code",
   "execution_count": 1,
   "metadata": {},
   "outputs": [
    {
     "name": "stderr",
     "output_type": "stream",
     "text": [
      "2022-09-29 17:11:56.794345: I tensorflow/core/platform/cpu_feature_guard.cc:193] This TensorFlow binary is optimized with oneAPI Deep Neural Network Library (oneDNN) to use the following CPU instructions in performance-critical operations:  AVX2 FMA\n",
      "To enable them in other operations, rebuild TensorFlow with the appropriate compiler flags.\n",
      "2022-09-29 17:11:57.715570: E tensorflow/stream_executor/cuda/cuda_blas.cc:2981] Unable to register cuBLAS factory: Attempting to register factory for plugin cuBLAS when one has already been registered\n",
      "2022-09-29 17:12:01.526036: W tensorflow/stream_executor/platform/default/dso_loader.cc:64] Could not load dynamic library 'libnvinfer.so.7'; dlerror: libnvinfer.so.7: cannot open shared object file: No such file or directory\n",
      "2022-09-29 17:12:01.526412: W tensorflow/stream_executor/platform/default/dso_loader.cc:64] Could not load dynamic library 'libnvinfer_plugin.so.7'; dlerror: libnvinfer_plugin.so.7: cannot open shared object file: No such file or directory\n",
      "2022-09-29 17:12:01.526436: W tensorflow/compiler/tf2tensorrt/utils/py_utils.cc:38] TF-TRT Warning: Cannot dlopen some TensorRT libraries. If you would like to use Nvidia GPU with TensorRT, please make sure the missing libraries mentioned above are installed properly.\n"
     ]
    }
   ],
   "source": [
    "%matplotlib inline\n",
    "%load_ext tensorboard\n",
    "\n",
    "import tensorflow as tf\n",
    "import numpy as np\n",
    "import matplotlib.pyplot as plt\n",
    "import shutil\n",
    "\n",
    "try:\n",
    "  shutil.rmtree('logs')\n",
    "except:\n",
    "  pass"
   ]
  },
  {
   "cell_type": "markdown",
   "metadata": {},
   "source": [
    "## Task 2: Create Dataset"
   ]
  },
  {
   "cell_type": "code",
   "execution_count": 2,
   "metadata": {},
   "outputs": [],
   "source": [
    "(x_train, y_train), (x_test, y_test) = tf.keras.datasets.mnist.load_data()"
   ]
  },
  {
   "cell_type": "code",
   "execution_count": 3,
   "metadata": {},
   "outputs": [
    {
     "name": "stdout",
     "output_type": "stream",
     "text": [
      "x_train ->  size : 47040000 | shape : (60000, 28, 28)\n",
      "x_test  ->  size : 7840000 | shape : (10000, 28, 28)\n",
      "y_train ->  size : 60000 | shape : (60000,)\n",
      "y_test  ->  size : 10000 | shape : (10000,)\n"
     ]
    }
   ],
   "source": [
    "print(\"x_train -> \",\"size :\",x_train.size, \"| shape :\",x_train.shape)\n",
    "print(\"x_test  -> \",\"size :\",x_test.size, \"| shape :\",x_test.shape)\n",
    "print(\"y_train -> \",\"size :\",y_train.size, \"| shape :\",y_train.shape)\n",
    "print(\"y_test  -> \",\"size :\",y_test.size, \"| shape :\",y_test.shape)"
   ]
  },
  {
   "cell_type": "code",
   "execution_count": 4,
   "metadata": {},
   "outputs": [],
   "source": [
    "def create_example(x, y):\n",
    "    # Defining Color label\n",
    "    c = np.random.randint(0, 2) # Taking 0 or 1 as a random input\n",
    "\n",
    "    # Converting B/W MNIST image to Red or Green Color Dominant Image\n",
    "    image = 0.5 * np.random.rand(28, 28, 3) # 28x28 is image resolution and 3 is color attribute\n",
    "    image[:, :, c] += 0.5 * x/255 # Adding Normalized Color attribute to MNIST image \n",
    "    return image, y, c"
   ]
  },
  {
   "cell_type": "code",
   "execution_count": 5,
   "metadata": {},
   "outputs": [
    {
     "name": "stdout",
     "output_type": "stream",
     "text": [
      "Digit : 3\n",
      "Color : red\n"
     ]
    },
    {
     "data": {
      "image/png": "[encoded data removed]",
      "text/plain": [
       "<Figure size 640x480 with 1 Axes>"
      ]
     },
     "metadata": {},
     "output_type": "display_data"
    }
   ],
   "source": [
    "colors = {0 : \"red\", 1 : \"green\"}\n",
    "\n",
    "x, y, c = create_example(x_train[12], y_train[12])\n",
    "print(\"Digit :\",y)\n",
    "print(\"Color :\",colors[c])\n",
    "\n",
    "plt.imshow(x)\n",
    "plt.show()"
   ]
  },
  {
   "cell_type": "markdown",
   "metadata": {},
   "source": [
    "## Task 3: Dataset Generator"
   ]
  },
  {
   "cell_type": "code",
   "execution_count": 6,
   "metadata": {},
   "outputs": [],
   "source": [
    "# Generator to be used for training and testing\n",
    "# Default batch_size = 32\n",
    "def generate_data(x, y, batch_size=32):\n",
    "    # Total numbers of examples\n",
    "    num_examples = len(y)\n",
    "\n",
    "    while True:\n",
    "        x_batch = np.zeros((batch_size, 28, 28, 3)) # Current shape of images after adding noise\n",
    "        y_batch = np.zeros((batch_size,)) # y values will be in range of [0-9]\n",
    "        c_batch = np.zeros((batch_size,)) # c values will be in range of [0-1] --> Color Values\n",
    "\n",
    "        for i in range(0, batch_size):\n",
    "            # Taking a random index/ example\n",
    "            index = np.random.randint(0, num_examples)\n",
    "            image, digit, color = create_example(x[index], y[index])\n",
    "            x_batch[i] = image\n",
    "            y_batch[i] = digit\n",
    "            c_batch[i] = color\n",
    "        \n",
    "        # YIELD --> returns single item in a list after processed\n",
    "        yield x_batch, [y_batch, c_batch]"
   ]
  },
  {
   "cell_type": "code",
   "execution_count": 7,
   "metadata": {},
   "outputs": [
    {
     "name": "stdout",
     "output_type": "stream",
     "text": [
      "[4.] green\n"
     ]
    },
    {
     "data": {
      "text/plain": [
       "<matplotlib.image.AxesImage at 0x7f5a00226fd0>"
      ]
     },
     "execution_count": 7,
     "metadata": {},
     "output_type": "execute_result"
    },
    {
     "data": {
      "image/png": "[encoded data removed]",
      "text/plain": [
       "<Figure size 640x480 with 1 Axes>"
      ]
     },
     "metadata": {},
     "output_type": "display_data"
    }
   ],
   "source": [
    "x, [y, c] = next(generate_data(x_test, y_test, batch_size=1))\n",
    "\n",
    "print(y, colors[c[0]])\n",
    "plt.imshow(x[0])"
   ]
  },
  {
   "cell_type": "markdown",
   "metadata": {},
   "source": [
    "## Task 4: Create Model\n",
    "\n"
   ]
  },
  {
   "cell_type": "code",
   "execution_count": 8,
   "metadata": {},
   "outputs": [],
   "source": [
    "# Now we will create model for this custom data set\n",
    "# The Model has 2 task to do :\n",
    "# 1. Recognize and Classify the Digit in image\n",
    "# 2. Identify the prominent color in the image"
   ]
  },
  {
   "cell_type": "code",
   "execution_count": 9,
   "metadata": {},
   "outputs": [
    {
     "name": "stderr",
     "output_type": "stream",
     "text": [
      "2022-09-29 17:12:06.466620: I tensorflow/stream_executor/cuda/cuda_gpu_executor.cc:980] successful NUMA node read from SysFS had negative value (-1), but there must be at least one NUMA node, so returning NUMA node zero\n",
      "2022-09-29 17:12:06.578014: W tensorflow/stream_executor/platform/default/dso_loader.cc:64] Could not load dynamic library 'libcudnn.so.8'; dlerror: libcudnn.so.8: cannot open shared object file: No such file or directory\n",
      "2022-09-29 17:12:06.578073: W tensorflow/core/common_runtime/gpu/gpu_device.cc:1934] Cannot dlopen some GPU libraries. Please make sure the missing libraries mentioned above are installed properly if you would like to use GPU. Follow the guide at https://www.tensorflow.org/install/gpu for how to download and setup the required libraries for your platform.\n",
      "Skipping registering GPU devices...\n",
      "2022-09-29 17:12:06.580693: I tensorflow/core/platform/cpu_feature_guard.cc:193] This TensorFlow binary is optimized with oneAPI Deep Neural Network Library (oneDNN) to use the following CPU instructions in performance-critical operations:  AVX2 FMA\n",
      "To enable them in other operations, rebuild TensorFlow with the appropriate compiler flags.\n"
     ]
    }
   ],
   "source": [
    "from tensorflow.keras.layers import Input, Conv2D, Activation, MaxPool2D, Flatten, Add, Dense\n",
    "\n",
    "input_layer = Input(shape=(28, 28, 3), name=\"Input_Layer\")\n",
    "\n",
    "conv_1 = Conv2D(32, 3, name=\"Conv_Layer_1\")(input_layer)\n",
    "act_1 = Activation(\"relu\", name=\"Activ_Layer_1\")(conv_1)\n",
    "pool_1 = MaxPool2D(4, name=\"MaxPool_Layer_1\")(act_1)\n",
    "flat_1 =  Flatten(name=\"Flatten_Layer_1\")(pool_1)\n",
    "\n",
    "color = Dense(1, activation=\"sigmoid\", name=\"color\")(flat_1)\n",
    "\n",
    "conv_2 = Conv2D(32, 3, padding=\"same\", name=\"Conv_Layer_2\")(act_1)\n",
    "act_2 = Activation(\"relu\", name=\"Activ_Layer_2\")(conv_2)\n",
    "\n",
    "conv_3 = Conv2D(32, 3, padding=\"same\", name=\"Conv_Layer_3\")(act_2)\n",
    "add = Add(name=\"Add_Layer\")([act_1, conv_3]) # Will add 2 Layers\n",
    "act_3 = Activation(\"relu\", name=\"Activ_Layer_3\")(add)\n",
    "\n",
    "pool_2 = MaxPool2D(4, name=\"MaxPool_Layer_2\")(act_3)\n",
    "flat_2 =  Flatten(name=\"Flatten_Layer_2\")(pool_2)\n",
    "\n",
    "digit = Dense(10, activation=\"softmax\", name=\"digit\")(flat_2)"
   ]
  },
  {
   "cell_type": "code",
   "execution_count": 10,
   "metadata": {},
   "outputs": [
    {
     "name": "stdout",
     "output_type": "stream",
     "text": [
      "Model: \"model\"\n",
      "__________________________________________________________________________________________________\n",
      " Layer (type)                   Output Shape         Param #     Connected to                     \n",
      "==================================================================================================\n",
      " Input_Layer (InputLayer)       [(None, 28, 28, 3)]  0           []                               \n",
      "                                                                                                  \n",
      " Conv_Layer_1 (Conv2D)          (None, 26, 26, 32)   896         ['Input_Layer[0][0]']            \n",
      "                                                                                                  \n",
      " Activ_Layer_1 (Activation)     (None, 26, 26, 32)   0           ['Conv_Layer_1[0][0]']           \n",
      "                                                                                                  \n",
      " Conv_Layer_2 (Conv2D)          (None, 26, 26, 32)   9248        ['Activ_Layer_1[0][0]']          \n",
      "                                                                                                  \n",
      " Activ_Layer_2 (Activation)     (None, 26, 26, 32)   0           ['Conv_Layer_2[0][0]']           \n",
      "                                                                                                  \n",
      " Conv_Layer_3 (Conv2D)          (None, 26, 26, 32)   9248        ['Activ_Layer_2[0][0]']          \n",
      "                                                                                                  \n",
      " Add_Layer (Add)                (None, 26, 26, 32)   0           ['Activ_Layer_1[0][0]',          \n",
      "                                                                  'Conv_Layer_3[0][0]']           \n",
      "                                                                                                  \n",
      " Activ_Layer_3 (Activation)     (None, 26, 26, 32)   0           ['Add_Layer[0][0]']              \n",
      "                                                                                                  \n",
      " MaxPool_Layer_2 (MaxPooling2D)  (None, 6, 6, 32)    0           ['Activ_Layer_3[0][0]']          \n",
      "                                                                                                  \n",
      " MaxPool_Layer_1 (MaxPooling2D)  (None, 6, 6, 32)    0           ['Activ_Layer_1[0][0]']          \n",
      "                                                                                                  \n",
      " Flatten_Layer_2 (Flatten)      (None, 1152)         0           ['MaxPool_Layer_2[0][0]']        \n",
      "                                                                                                  \n",
      " Flatten_Layer_1 (Flatten)      (None, 1152)         0           ['MaxPool_Layer_1[0][0]']        \n",
      "                                                                                                  \n",
      " digit (Dense)                  (None, 10)           11530       ['Flatten_Layer_2[0][0]']        \n",
      "                                                                                                  \n",
      " color (Dense)                  (None, 1)            1153        ['Flatten_Layer_1[0][0]']        \n",
      "                                                                                                  \n",
      "==================================================================================================\n",
      "Total params: 32,075\n",
      "Trainable params: 32,075\n",
      "Non-trainable params: 0\n",
      "__________________________________________________________________________________________________\n"
     ]
    }
   ],
   "source": [
    "# There will be 2 outputs (Color and Digit)\n",
    "# and the digit output layer will be first because of the design of dataset generator\n",
    "model = tf.keras.models.Model(input_layer, [digit, color])\n",
    "\n",
    "model.compile(\n",
    "    loss={\n",
    "        \"digit\": \"sparse_categorical_crossentropy\",\n",
    "        \"color\": \"binary_crossentropy\"\n",
    "    },\n",
    "    optimizer=\"adam\",\n",
    "    metrics=[\"accuracy\"]\n",
    ")\n",
    "\n",
    "model.summary()"
   ]
  },
  {
   "cell_type": "code",
   "execution_count": 11,
   "metadata": {},
   "outputs": [
    {
     "name": "stdout",
     "output_type": "stream",
     "text": [
      "You must install pydot (`pip install pydot`) and install graphviz (see instructions at https://graphviz.gitlab.io/download/) for plot_model to work.\n"
     ]
    }
   ],
   "source": [
    "# Plotting the model architecture\n",
    "tf.keras.utils.plot_model(model, show_shapes=True)"
   ]
  },
  {
   "cell_type": "markdown",
   "metadata": {},
   "source": [
    "## Task 5 : Training the Model"
   ]
  },
  {
   "cell_type": "code",
   "execution_count": 12,
   "metadata": {},
   "outputs": [],
   "source": [
    "# It is just a keras callback function which will just print model validation metrics\n",
    "class Logger(tf.keras.callbacks.Callback):\n",
    "  def on_epoch_end(self, epoch, logs=None):\n",
    "    digit_accuracy = logs.get('digit_accuracy')\n",
    "    color_accuracy = logs.get('color_accuracy')\n",
    "    val_digit_accuracy = logs.get('val_digit_accuracy')\n",
    "    val_color_accuracy = logs.get('val_color_accuracy')\n",
    "    print('='*30, epoch + 1, '='*30)\n",
    "    print(f'digit_accuracy: {digit_accuracy:.2f}, color_accuracy: {color_accuracy:.2f}')\n",
    "    print(f'val_digit_accuracy: {val_digit_accuracy:.2f}, val_color_accuracy: {val_color_accuracy:.2f}')\n",
    "    print(\"\\n\\n\")"
   ]
  },
  {
   "cell_type": "code",
   "execution_count": 13,
   "metadata": {},
   "outputs": [
    {
     "name": "stdout",
     "output_type": "stream",
     "text": [
      "Epoch 1/10\n",
      "200/200 [==============================] - ETA: 0s - loss: 1.3482 - digit_loss: 1.1579 - color_loss: 0.1903 - digit_accuracy: 0.6044 - color_accuracy: 0.9833============================== 1 ==============================\n",
      "digit_accuracy: 0.60, color_accuracy: 0.98\n",
      "val_digit_accuracy: 0.87, val_color_accuracy: 1.00\n",
      "\n",
      "\n",
      "\n",
      "200/200 [==============================] - 47s 211ms/step - loss: 1.3482 - digit_loss: 1.1579 - color_loss: 0.1903 - digit_accuracy: 0.6044 - color_accuracy: 0.9833 - val_loss: 0.4364 - val_digit_loss: 0.4179 - val_color_loss: 0.0185 - val_digit_accuracy: 0.8687 - val_color_accuracy: 1.0000\n",
      "Epoch 2/10\n",
      "200/200 [==============================] - ETA: 0s - loss: 0.3716 - digit_loss: 0.3606 - color_loss: 0.0109 - digit_accuracy: 0.8856 - color_accuracy: 1.0000============================== 2 ==============================\n",
      "digit_accuracy: 0.89, color_accuracy: 1.00\n",
      "val_digit_accuracy: 0.91, val_color_accuracy: 1.00\n",
      "\n",
      "\n",
      "\n",
      "200/200 [==============================] - 45s 222ms/step - loss: 0.3716 - digit_loss: 0.3606 - color_loss: 0.0109 - digit_accuracy: 0.8856 - color_accuracy: 1.0000 - val_loss: 0.3063 - val_digit_loss: 0.2996 - val_color_loss: 0.0066 - val_digit_accuracy: 0.9134 - val_color_accuracy: 1.0000\n",
      "Epoch 3/10\n",
      "200/200 [==============================] - ETA: 0s - loss: 0.2542 - digit_loss: 0.2499 - color_loss: 0.0043 - digit_accuracy: 0.9241 - color_accuracy: 1.0000============================== 3 ==============================\n",
      "digit_accuracy: 0.92, color_accuracy: 1.00\n",
      "val_digit_accuracy: 0.94, val_color_accuracy: 1.00\n",
      "\n",
      "\n",
      "\n",
      "200/200 [==============================] - 40s 199ms/step - loss: 0.2542 - digit_loss: 0.2499 - color_loss: 0.0043 - digit_accuracy: 0.9241 - color_accuracy: 1.0000 - val_loss: 0.2049 - val_digit_loss: 0.2022 - val_color_loss: 0.0027 - val_digit_accuracy: 0.9400 - val_color_accuracy: 1.0000\n",
      "Epoch 4/10\n",
      "200/200 [==============================] - ETA: 0s - loss: 0.1823 - digit_loss: 0.1802 - color_loss: 0.0021 - digit_accuracy: 0.9420 - color_accuracy: 1.0000============================== 4 ==============================\n",
      "digit_accuracy: 0.94, color_accuracy: 1.00\n",
      "val_digit_accuracy: 0.96, val_color_accuracy: 1.00\n",
      "\n",
      "\n",
      "\n",
      "200/200 [==============================] - 49s 243ms/step - loss: 0.1823 - digit_loss: 0.1802 - color_loss: 0.0021 - digit_accuracy: 0.9420 - color_accuracy: 1.0000 - val_loss: 0.1345 - val_digit_loss: 0.1331 - val_color_loss: 0.0014 - val_digit_accuracy: 0.9613 - val_color_accuracy: 1.0000\n",
      "Epoch 5/10\n",
      "200/200 [==============================] - ETA: 0s - loss: 0.1754 - digit_loss: 0.1738 - color_loss: 0.0015 - digit_accuracy: 0.9448 - color_accuracy: 1.0000============================== 5 ==============================\n",
      "digit_accuracy: 0.94, color_accuracy: 1.00\n",
      "val_digit_accuracy: 0.96, val_color_accuracy: 1.00\n",
      "\n",
      "\n",
      "\n",
      "200/200 [==============================] - 44s 219ms/step - loss: 0.1754 - digit_loss: 0.1738 - color_loss: 0.0015 - digit_accuracy: 0.9448 - color_accuracy: 1.0000 - val_loss: 0.1471 - val_digit_loss: 0.1459 - val_color_loss: 0.0012 - val_digit_accuracy: 0.9575 - val_color_accuracy: 1.0000\n",
      "Epoch 6/10\n",
      "200/200 [==============================] - ETA: 0s - loss: 0.1353 - digit_loss: 0.1342 - color_loss: 0.0011 - digit_accuracy: 0.9614 - color_accuracy: 1.0000============================== 6 ==============================\n",
      "digit_accuracy: 0.96, color_accuracy: 1.00\n",
      "val_digit_accuracy: 0.96, val_color_accuracy: 1.00\n",
      "\n",
      "\n",
      "\n",
      "200/200 [==============================] - 70s 351ms/step - loss: 0.1353 - digit_loss: 0.1342 - color_loss: 0.0011 - digit_accuracy: 0.9614 - color_accuracy: 1.0000 - val_loss: 0.1390 - val_digit_loss: 0.1380 - val_color_loss: 0.0010 - val_digit_accuracy: 0.9597 - val_color_accuracy: 1.0000\n",
      "Epoch 7/10\n",
      "200/200 [==============================] - ETA: 0s - loss: 0.1353 - digit_loss: 0.1346 - color_loss: 7.6468e-04 - digit_accuracy: 0.9539 - color_accuracy: 1.0000============================== 7 ==============================\n",
      "digit_accuracy: 0.95, color_accuracy: 1.00\n",
      "val_digit_accuracy: 0.97, val_color_accuracy: 1.00\n",
      "\n",
      "\n",
      "\n",
      "200/200 [==============================] - 57s 284ms/step - loss: 0.1353 - digit_loss: 0.1346 - color_loss: 7.6468e-04 - digit_accuracy: 0.9539 - color_accuracy: 1.0000 - val_loss: 0.1040 - val_digit_loss: 0.1034 - val_color_loss: 5.5379e-04 - val_digit_accuracy: 0.9700 - val_color_accuracy: 1.0000\n",
      "Epoch 8/10\n",
      "200/200 [==============================] - ETA: 0s - loss: 0.1207 - digit_loss: 0.1201 - color_loss: 5.8732e-04 - digit_accuracy: 0.9638 - color_accuracy: 1.0000============================== 8 ==============================\n",
      "digit_accuracy: 0.96, color_accuracy: 1.00\n",
      "val_digit_accuracy: 0.96, val_color_accuracy: 1.00\n",
      "\n",
      "\n",
      "\n",
      "200/200 [==============================] - 58s 291ms/step - loss: 0.1207 - digit_loss: 0.1201 - color_loss: 5.8732e-04 - digit_accuracy: 0.9638 - color_accuracy: 1.0000 - val_loss: 0.1207 - val_digit_loss: 0.1201 - val_color_loss: 5.8242e-04 - val_digit_accuracy: 0.9625 - val_color_accuracy: 1.0000\n",
      "Epoch 9/10\n",
      "200/200 [==============================] - ETA: 0s - loss: 0.1214 - digit_loss: 0.1208 - color_loss: 5.2134e-04 - digit_accuracy: 0.9603 - color_accuracy: 1.0000============================== 9 ==============================\n",
      "digit_accuracy: 0.96, color_accuracy: 1.00\n",
      "val_digit_accuracy: 0.97, val_color_accuracy: 1.00\n",
      "\n",
      "\n",
      "\n",
      "200/200 [==============================] - 46s 227ms/step - loss: 0.1214 - digit_loss: 0.1208 - color_loss: 5.2134e-04 - digit_accuracy: 0.9603 - color_accuracy: 1.0000 - val_loss: 0.0982 - val_digit_loss: 0.0977 - val_color_loss: 4.8233e-04 - val_digit_accuracy: 0.9694 - val_color_accuracy: 1.0000\n",
      "Epoch 10/10\n",
      "200/200 [==============================] - ETA: 0s - loss: 0.1144 - digit_loss: 0.1139 - color_loss: 4.2759e-04 - digit_accuracy: 0.9655 - color_accuracy: 1.0000============================== 10 ==============================\n",
      "digit_accuracy: 0.97, color_accuracy: 1.00\n",
      "val_digit_accuracy: 0.97, val_color_accuracy: 1.00\n",
      "\n",
      "\n",
      "\n",
      "200/200 [==============================] - 40s 199ms/step - loss: 0.1144 - digit_loss: 0.1139 - color_loss: 4.2759e-04 - digit_accuracy: 0.9655 - color_accuracy: 1.0000 - val_loss: 0.0839 - val_digit_loss: 0.0835 - val_color_loss: 3.8077e-04 - val_digit_accuracy: 0.9741 - val_color_accuracy: 1.0000\n"
     ]
    }
   ],
   "source": [
    "# Generating the Custom Dataset\n",
    "train_gen = generate_data(x_train, y_train)\n",
    "test_gen = generate_data(x_test, y_test)\n",
    "\n",
    "_ = model.fit(\n",
    "    train_gen,\n",
    "    validation_data=test_gen,\n",
    "    steps_per_epoch=200,\n",
    "    validation_steps=100,\n",
    "    epochs=10,\n",
    "    callbacks=[\n",
    "        Logger(), # Our Custom Callback Function\n",
    "        tf.keras.callbacks.TensorBoard(log_dir=\"./logs\")\n",
    "    ],\n",
    "    verbose=True\n",
    ")"
   ]
  },
  {
   "cell_type": "code",
   "execution_count": null,
   "metadata": {},
   "outputs": [],
   "source": [
    "%tensorboard --logdir logs"
   ]
  },
  {
   "cell_type": "code",
   "execution_count": null,
   "metadata": {},
   "outputs": [],
   "source": []
  }
 ],
 "metadata": {
  "kernelspec": {
   "display_name": "Python 3.8.10 ('Keras_VENV': venv)",
   "language": "python",
   "name": "python3"
  },
  "language_info": {
   "codemirror_mode": {
    "name": "ipython",
    "version": 3
   },
   "file_extension": ".py",
   "mimetype": "text/x-python",
   "name": "python",
   "nbconvert_exporter": "python",
   "pygments_lexer": "ipython3",
   "version": "3.8.10"
  },
  "orig_nbformat": 4,
  "vscode": {
   "interpreter": {
    "hash": "b461d69c2ded873c7cf83cede3bad70cced6f9cb46ae727248e194165f512f20"
   }
  }
 },
 "nbformat": 4,
 "nbformat_minor": 2
}
