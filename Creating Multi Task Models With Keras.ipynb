{
 "cells": [
  {
   "cell_type": "markdown",
   "metadata": {},
   "source": [
    "## Task 1: Introduction\n",
    "\n",
    "\n",
    "Starter notebook for the Coursera Guided Project [Creating Multi Task Models With Keras](https://www.coursera.org/projects/multi-task-models-keras)"
   ]
  },
  {
   "cell_type": "code",
   "execution_count": 1,
   "metadata": {},
   "outputs": [
    {
     "name": "stderr",
     "output_type": "stream",
     "text": [
      "2022-09-29 15:24:42.336550: I tensorflow/core/platform/cpu_feature_guard.cc:193] This TensorFlow binary is optimized with oneAPI Deep Neural Network Library (oneDNN) to use the following CPU instructions in performance-critical operations:  AVX2 FMA\n",
      "To enable them in other operations, rebuild TensorFlow with the appropriate compiler flags.\n",
      "2022-09-29 15:24:42.684422: E tensorflow/stream_executor/cuda/cuda_blas.cc:2981] Unable to register cuBLAS factory: Attempting to register factory for plugin cuBLAS when one has already been registered\n",
      "2022-09-29 15:24:44.242900: W tensorflow/stream_executor/platform/default/dso_loader.cc:64] Could not load dynamic library 'libnvinfer.so.7'; dlerror: libnvinfer.so.7: cannot open shared object file: No such file or directory\n",
      "2022-09-29 15:24:44.243161: W tensorflow/stream_executor/platform/default/dso_loader.cc:64] Could not load dynamic library 'libnvinfer_plugin.so.7'; dlerror: libnvinfer_plugin.so.7: cannot open shared object file: No such file or directory\n",
      "2022-09-29 15:24:44.243223: W tensorflow/compiler/tf2tensorrt/utils/py_utils.cc:38] TF-TRT Warning: Cannot dlopen some TensorRT libraries. If you would like to use Nvidia GPU with TensorRT, please make sure the missing libraries mentioned above are installed properly.\n"
     ]
    }
   ],
   "source": [
    "%matplotlib inline\n",
    "%load_ext tensorboard\n",
    "\n",
    "import tensorflow as tf\n",
    "import numpy as np\n",
    "import matplotlib.pyplot as plt\n",
    "import shutil\n",
    "\n",
    "try:\n",
    "  shutil.rmtree('logs')\n",
    "except:\n",
    "  pass"
   ]
  },
  {
   "cell_type": "markdown",
   "metadata": {},
   "source": [
    "## Task 2: Create Dataset"
   ]
  },
  {
   "cell_type": "code",
   "execution_count": 2,
   "metadata": {},
   "outputs": [],
   "source": [
    "(x_train, y_train), (x_test, y_test) = tf.keras.datasets.mnist.load_data()"
   ]
  },
  {
   "cell_type": "code",
   "execution_count": 3,
   "metadata": {},
   "outputs": [
    {
     "name": "stdout",
     "output_type": "stream",
     "text": [
      "x_train ->  size : 47040000 | shape : (60000, 28, 28)\n",
      "x_test  ->  size : 7840000 | shape : (10000, 28, 28)\n",
      "y_train ->  size : 60000 | shape : (60000,)\n",
      "y_test  ->  size : 10000 | shape : (10000,)\n"
     ]
    }
   ],
   "source": [
    "print(\"x_train -> \",\"size :\",x_train.size, \"| shape :\",x_train.shape)\n",
    "print(\"x_test  -> \",\"size :\",x_test.size, \"| shape :\",x_test.shape)\n",
    "print(\"y_train -> \",\"size :\",y_train.size, \"| shape :\",y_train.shape)\n",
    "print(\"y_test  -> \",\"size :\",y_test.size, \"| shape :\",y_test.shape)"
   ]
  },
  {
   "cell_type": "code",
   "execution_count": 4,
   "metadata": {},
   "outputs": [],
   "source": [
    "def create_example(x, y):\n",
    "    # Defining Color label\n",
    "    c = np.random.randint(0, 2) # Taking 0 or 1 as a random input\n",
    "\n",
    "    # Converting B/W MNIST image to Red or Green Color Dominant Image\n",
    "    image = 0.5 * np.random.rand(28, 28, 3) # 28x28 is image resolution and 3 is color attribute\n",
    "    image[:, :, c] += 0.5 * x/255 # Adding Normalized Color attribute to MNIST image \n",
    "    return image, y, c"
   ]
  },
  {
   "cell_type": "code",
   "execution_count": 5,
   "metadata": {},
   "outputs": [
    {
     "name": "stdout",
     "output_type": "stream",
     "text": [
      "Digit : 3\n",
      "Color : green\n"
     ]
    },
    {
     "data": {
      "image/png": "[encoded data removed]",
      "text/plain": [
       "<Figure size 640x480 with 1 Axes>"
      ]
     },
     "metadata": {},
     "output_type": "display_data"
    }
   ],
   "source": [
    "colors = {0 : \"red\", 1 : \"green\"}\n",
    "\n",
    "x, y, c = create_example(x_train[12], y_train[12])\n",
    "print(\"Digit :\",y)\n",
    "print(\"Color :\",colors[c])\n",
    "\n",
    "plt.imshow(x)\n",
    "plt.show()"
   ]
  },
  {
   "cell_type": "markdown",
   "metadata": {},
   "source": [
    "## Task 3: Dataset Generator"
   ]
  },
  {
   "cell_type": "code",
   "execution_count": 6,
   "metadata": {},
   "outputs": [],
   "source": [
    "# Generator to be used for training and testing\n",
    "# Default batch_size = 32\n",
    "def generate_data(x, y, batch_size=32):\n",
    "    # Total numbers of examples\n",
    "    num_examples = len(y)\n",
    "\n",
    "    while True:\n",
    "        x_batch = np.zeros((batch_size, 28, 28, 3)) # Current shape of images after adding noise\n",
    "        y_batch = np.zeros((batch_size,)) # y values will be in range of [0-9]\n",
    "        c_batch = np.zeros((batch_size,)) # c values will be in range of [0-1] --> Color Values\n",
    "\n",
    "        for i in range(0, batch_size):\n",
    "            # Taking a random index/ example\n",
    "            index = np.random.randint(0, num_examples)\n",
    "            image, digit, color = create_example(x[index], y[index])\n",
    "            x_batch[i] = image\n",
    "            y_batch[i] = digit\n",
    "            c_batch[i] = color\n",
    "        \n",
    "        # YIELD --> returns single item in a list after processed\n",
    "        yield x_batch, [y_batch, c_batch]"
   ]
  },
  {
   "cell_type": "code",
   "execution_count": 17,
   "metadata": {},
   "outputs": [
    {
     "name": "stdout",
     "output_type": "stream",
     "text": [
      "[3.] red\n"
     ]
    },
    {
     "data": {
      "text/plain": [
       "<matplotlib.image.AxesImage at 0x7f90c1521e80>"
      ]
     },
     "execution_count": 17,
     "metadata": {},
     "output_type": "execute_result"
    },
    {
     "data": {
      "image/png": "[encoded data removed]",
      "text/plain": [
       "<Figure size 640x480 with 1 Axes>"
      ]
     },
     "metadata": {},
     "output_type": "display_data"
    }
   ],
   "source": [
    "x, [y, c] = next(generate_data(x_test, y_test, batch_size=1))\n",
    "\n",
    "print(y, colors[c[0]])\n",
    "plt.imshow(x[0])"
   ]
  },
  {
   "cell_type": "code",
   "execution_count": null,
   "metadata": {},
   "outputs": [],
   "source": []
  },
  {
   "cell_type": "code",
   "execution_count": null,
   "metadata": {},
   "outputs": [],
   "source": []
  },
  {
   "cell_type": "code",
   "execution_count": null,
   "metadata": {},
   "outputs": [],
   "source": []
  }
 ],
 "metadata": {
  "kernelspec": {
   "display_name": "Python 3.8.10 ('Keras_VENV': venv)",
   "language": "python",
   "name": "python3"
  },
  "language_info": {
   "codemirror_mode": {
    "name": "ipython",
    "version": 3
   },
   "file_extension": ".py",
   "mimetype": "text/x-python",
   "name": "python",
   "nbconvert_exporter": "python",
   "pygments_lexer": "ipython3",
   "version": "3.8.10"
  },
  "orig_nbformat": 4,
  "vscode": {
   "interpreter": {
    "hash": "b461d69c2ded873c7cf83cede3bad70cced6f9cb46ae727248e194165f512f20"
   }
  }
 },
 "nbformat": 4,
 "nbformat_minor": 2
}
